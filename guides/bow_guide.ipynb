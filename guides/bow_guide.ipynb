{
 "cells": [
  {
   "cell_type": "markdown",
   "metadata": {},
   "source": [
    "**AI & Machine Learning (KAN-CINTO4003U) - Copenhagen Business School | Spring 2025**\n",
    "\n",
    "***"
   ]
  },
  {
   "cell_type": "markdown",
   "metadata": {},
   "source": [
    "# Bag of Words Model\n",
    "\n",
    "___\n",
    "\n",
    "\n",
    "- Bag of Words (BoW) is a fundamental text representation technique in Natural Language Processing (NLP) that transforms text into numerical features by counting word occurrences while disregarding grammar and word order. This simplistic yet powerful approach forms the foundation for many classical NLP models and serves as a stepping stone to more sophisticated text analysis methods.\n",
    "\n",
    "- The concept of BoW was formalized in early information retrieval systems and gained prominence with the Vector Space Model ([Salton et al., 1975](https://dl.acm.org/doi/10.1145/361219.361220)), which represents documents as vectors in a high-dimensional space where each dimension corresponds to a distinct term in the vocabulary. This representation enables mathematical operations on text data, facilitating document comparison through similarity metrics like cosine similarity.\n",
    "\n",
    "- Term Frequency-Inverse Document Frequency (TF-IDF) ([Sparck Jones, 1972](https://www.doi.org/10.1108/eb026562)) enhanced the basic BoW model by *weighting terms based on their frequency in a document relative to their occurrence across a corpus*. This addressed the limitation of treating all terms equally and has become a standard weighting scheme in information retrieval and text classification tasks.\n",
    "\n",
    "- The BoW approach is still widely used in industry despite its simplicity. BoW-based models demonstrate surprising effectiveness for tasks like sentiment analysis, spam detection, and document categorization. Since the beginning of the deep learning era, BoW is often used as a baseline for comparing the performance of more complex models. Generally speaking, simpler is bettet!\n",
    "\n",
    "- BoW has notable limitations: it loses contextual information, struggles with synonyms and polysemy, and creates sparse high-dimensional vectors. Modern NLP has largely transitioned to distributed word representations like **Word2Vec** ([Mikolov et al., 2013](https://arxiv.org/abs/1301.3781)) and contextualized embeddings from transformer-based models, which capture semantic relationships and contextual nuances that BoW approaches fundamentally cannot represent.\n",
    "\n",
    "***"
   ]
  },
  {
   "cell_type": "markdown",
   "metadata": {},
   "source": [
    "**In this notebook, we will** \n",
    "\n",
    "1. Explore how to build a BoW model from scratch using Python, as a motivating example. This way we can see the simple steps involved in building BoW models\n",
    "\n",
    "2. **Build a BoW model with scikit-learn**: This is the common way to build BoW models. This section is meant to provide inspiration for the BoW section of the assignment. Here we work with a subset of the [AG News](https://huggingface.co/datasets/fancyzhx/ag_news) dataset, which you will also use for the assignment.\n"
   ]
  },
  {
   "cell_type": "markdown",
   "metadata": {},
   "source": [
    "***\n",
    "\n",
    "<div style=\"padding-left: 10px; padding-right: 10px; padding-top: 10px; padding-bottom: 30px, align: justify\">\n",
    "<p align=\"center\">\n",
    "<img src=\"media/bow_slp1.png\" alt=\"Transformer Architecture\" width=\"800\"/><br>\n",
    "Image from Speech and Language Processing. Daniel Jurafsky & James H. Martin.<br> Copyright © 2024. All\n",
    "rights reserved. Draft of January 12, 2025.\n",
    "</p>\n",
    "</div>\n",
    "\n",
    "\n",
    "# 1. An introduction to bag-of-words models\n",
    "\n",
    "* A bag-of-words model is a type of vector representation for text data that describes the occurrence of words within a document. We transform each document into a vector of word counts or frequencies. This vectorization enables standard machine learning methods.<br><br>\n",
    "\n",
    "---\n",
    "\n",
    "Any text (or document) can be transformed into an unordered set of words with their position ignored, keeping only their frequency in the document. In the example in the figure, instead of representing the word order in all the phrases like “<i>I love this movie</i>” and “<i>I would recommend it</i>”, we simply note that the word I occurred 5 times in the entire excerpt, the word it 6 times, the words love, recommend, and movie once, and so on. In other words, no pun intended, the position of the words is ignored (the bag-of-words assumption) and we make use of the *frequency* of each word.\n",
    "\n",
    "\n",
    "In this section, we will build a bag-of-words model from scratch. Let's assume we have the same text as in the image above:\n"
   ]
  },
  {
   "cell_type": "code",
   "execution_count": 2,
   "metadata": {},
   "outputs": [
    {
     "data": {
      "text/plain": [
       "\"I love this movie! It's sweet, but with satirical humor. The dialogue is great and the adventure scenes are fun... It manages to be whimsical and romantic while laughing at the conventions of the fairy tale genre. I would recommend it to just about anyone. I've seen it several times, and I'm always happy to see it again whenever I have a friend who hasn't seen it yet!\""
      ]
     },
     "execution_count": 2,
     "metadata": {},
     "output_type": "execute_result"
    }
   ],
   "source": [
    "document = (\n",
    "    \"I love this movie! It's sweet, but with satirical humor. \" +\n",
    "    \"The dialogue is great and the adventure scenes are fun... \" +\n",
    "    \"It manages to be whimsical and romantic while laughing at the conventions of the fairy tale genre. \" +\n",
    "    \"I would recommend it to just about anyone. I've seen it several times, and I'm always happy to see it again whenever I have a friend who hasn't seen it yet!\"\n",
    ")\n",
    "document"
   ]
  },
  {
   "cell_type": "markdown",
   "metadata": {},
   "source": [
    "We can count the frequency of each word in the text. "
   ]
  },
  {
   "cell_type": "code",
   "execution_count": 3,
   "metadata": {},
   "outputs": [
    {
     "name": "stdout",
     "output_type": "stream",
     "text": [
      "{'I': 3, 'love': 1, 'this': 1, 'movie!': 1, \"It's\": 1, 'sweet,': 1, 'but': 1, 'with': 1, 'satirical': 1, 'humor.': 1, 'The': 1, 'dialogue': 1, 'is': 1, 'great': 1, 'and': 3, 'the': 3, 'adventure': 1, 'scenes': 1, 'are': 1, 'fun...': 1, 'It': 1, 'manages': 1, 'to': 3, 'be': 1, 'whimsical': 1, 'romantic': 1, 'while': 1, 'laughing': 1, 'at': 1, 'conventions': 1, 'of': 1, 'fairy': 1, 'tale': 1, 'genre.': 1, 'would': 1, 'recommend': 1, 'it': 4, 'just': 1, 'about': 1, 'anyone.': 1, \"I've\": 1, 'seen': 2, 'several': 1, 'times,': 1, \"I'm\": 1, 'always': 1, 'happy': 1, 'see': 1, 'again': 1, 'whenever': 1, 'have': 1, 'a': 1, 'friend': 1, 'who': 1, \"hasn't\": 1, 'yet!': 1}\n"
     ]
    }
   ],
   "source": [
    "# split the document into words\n",
    "words = document.split() # split the document into words by whitespace\n",
    "\n",
    "# create a dictionary to store the frequency of each word\n",
    "word_freq = {}\n",
    "for word in words:\n",
    "    if word in word_freq:\n",
    "        word_freq[word] += 1\n",
    "    else:\n",
    "        word_freq[word] = 1\n",
    "\n",
    "print(word_freq)"
   ]
  },
  {
   "cell_type": "markdown",
   "metadata": {},
   "source": [
    "\n",
    "\n",
    "We will typically have more than one documents and we can build a BoW for any collection of texts. A set of documents is typically referred to as a corpus in NLP. Here we have a corpus of 8 sentences."
   ]
  },
  {
   "cell_type": "code",
   "execution_count": 4,
   "metadata": {},
   "outputs": [],
   "source": [
    "corpus = [\n",
    "    \"Natural Language Processing (NLP) is a fascinating field of study, which involves the interaction between computers and humans using natural language.\",\n",
    "    \"The goal of NLP is to enable computers to understand, interpret, and generate human language in a way that is both meaningful and useful.\",\n",
    "    \"There are many challenges in NLP, such as dealing with the ambiguity and variability of natural language.\",\n",
    "    \"Techniques in NLP include tokenization, stemming, lemmatization, and part-of-speech tagging, among others.\",\n",
    "    \"Applications of NLP are vast and include machine translation, sentiment analysis, and speech recognition.\",\n",
    "    \"In recent years, deep learning has revolutionized NLP, leading to significant improvements in tasks like language modeling and text generation.\",\n",
    "    \"Despite these advancements, there are still many open problems in NLP, such as understanding context and handling low-resource languages.\",\n",
    "    \"Researchers in NLP are continually developing new methods and models to address these challenges and improve the performance of NLP systems.\"\n",
    "]"
   ]
  },
  {
   "cell_type": "markdown",
   "metadata": {},
   "source": [
    "In traditonal NLP - meaning the pre-transformer era - the preprocessing steps for text data were crucial. Transforming text data into a format that can be used by machine learning models is a non-trivial task. In the following, we will perform the following preprocessing steps:\n",
    "\n",
    "- Lowercase all text\n",
    "- Remove punctuation, and\n",
    "- Separate words using whitespace."
   ]
  },
  {
   "cell_type": "code",
   "execution_count": 5,
   "metadata": {},
   "outputs": [
    {
     "name": "stdout",
     "output_type": "stream",
     "text": [
      "['i', 'love', 'this', 'movie', 'its', 'sweet', 'but', 'with', 'satirical', 'humor', 'the', 'dialogue', 'is', 'great', 'and', 'the', 'adventure', 'scenes', 'are', 'fun', 'it', 'manages', 'to', 'be', 'whimsical', 'and', 'romantic', 'while', 'laughing', 'at', 'the', 'conventions', 'of', 'the', 'fairy', 'tale', 'genre', 'i', 'would', 'recommend', 'it', 'to', 'just', 'about', 'anyone', 'ive', 'seen', 'it', 'several', 'times', 'and', 'im', 'always', 'happy', 'to', 'see', 'it', 'again', 'whenever', 'i', 'have', 'a', 'friend', 'who', 'hasnt', 'seen', 'it', 'yet']\n"
     ]
    }
   ],
   "source": [
    "def preprocess_text(text):\n",
    "\n",
    "\n",
    "    # 1. Convert the text to lowercase\n",
    "    text = text.lower()\n",
    "\n",
    "    # 2. Remove punctuation by building a new string without those characters\n",
    "    # Define punctuation characters explicitly (since we are not using any libraries)\n",
    "    punctuation_chars = \".,!?;:'\\\"()\"\n",
    "    text = ''.join(char for char in text if char not in punctuation_chars)\n",
    "\n",
    "    # 3. Tokenize by splitting on whitespace\n",
    "    tokens = text.split()\n",
    "\n",
    "    return tokens\n",
    "\n",
    "# Process the document and print results\n",
    "tokens = preprocess_text(document)\n",
    "print(tokens)\n"
   ]
  },
  {
   "cell_type": "markdown",
   "metadata": {},
   "source": [
    "With preprocessing done, we can now count our words again. This time, we will have a much cleaner representation of our text data, since we have removed punctuation and converted all text to lowercase. for example, the word \"I\" and \"i\" will be counted as the same word."
   ]
  },
  {
   "cell_type": "code",
   "execution_count": 6,
   "metadata": {},
   "outputs": [
    {
     "name": "stdout",
     "output_type": "stream",
     "text": [
      "len(preprocessed_documents)=8 | len(corpus)=8\n",
      "\n",
      "[['natural', 'language', 'processing', 'nlp', 'is', 'a', 'fascinating', 'field', 'of', 'study', 'which', 'involves', 'the', 'interaction', 'between', 'computers', 'and', 'humans', 'using', 'natural', 'language'], ['the', 'goal', 'of', 'nlp', 'is', 'to', 'enable', 'computers', 'to', 'understand', 'interpret', 'and', 'generate', 'human', 'language', 'in', 'a', 'way', 'that', 'is', 'both', 'meaningful', 'and', 'useful'], ['there', 'are', 'many', 'challenges', 'in', 'nlp', 'such', 'as', 'dealing', 'with', 'the', 'ambiguity', 'and', 'variability', 'of', 'natural', 'language'], ['techniques', 'in', 'nlp', 'include', 'tokenization', 'stemming', 'lemmatization', 'and', 'part-of-speech', 'tagging', 'among', 'others'], ['applications', 'of', 'nlp', 'are', 'vast', 'and', 'include', 'machine', 'translation', 'sentiment', 'analysis', 'and', 'speech', 'recognition'], ['in', 'recent', 'years', 'deep', 'learning', 'has', 'revolutionized', 'nlp', 'leading', 'to', 'significant', 'improvements', 'in', 'tasks', 'like', 'language', 'modeling', 'and', 'text', 'generation'], ['despite', 'these', 'advancements', 'there', 'are', 'still', 'many', 'open', 'problems', 'in', 'nlp', 'such', 'as', 'understanding', 'context', 'and', 'handling', 'low-resource', 'languages'], ['researchers', 'in', 'nlp', 'are', 'continually', 'developing', 'new', 'methods', 'and', 'models', 'to', 'address', 'these', 'challenges', 'and', 'improve', 'the', 'performance', 'of', 'nlp', 'systems']]\n",
      "len(word_freq)=142\n",
      "\n",
      "{'I': 3, 'love': 1, 'this': 1, 'movie!': 1, \"It's\": 1, 'sweet,': 1, 'but': 1, 'with': 2, 'satirical': 1, 'humor.': 1, 'The': 1, 'dialogue': 1, 'is': 4, 'great': 1, 'and': 14, 'the': 7, 'adventure': 1, 'scenes': 1, 'are': 5, 'fun...': 1, 'It': 1, 'manages': 1, 'to': 7, 'be': 1, 'whimsical': 1, 'romantic': 1, 'while': 1, 'laughing': 1, 'at': 1, 'conventions': 1, 'of': 6, 'fairy': 1, 'tale': 1, 'genre.': 1, 'would': 1, 'recommend': 1, 'it': 4, 'just': 1, 'about': 1, 'anyone.': 1, \"I've\": 1, 'seen': 2, 'several': 1, 'times,': 1, \"I'm\": 1, 'always': 1, 'happy': 1, 'see': 1, 'again': 1, 'whenever': 1, 'have': 1, 'a': 3, 'friend': 1, 'who': 1, \"hasn't\": 1, 'yet!': 1, 'natural': 3, 'language': 5, 'processing': 1, 'nlp': 9, 'fascinating': 1, 'field': 1, 'study': 1, 'which': 1, 'involves': 1, 'interaction': 1, 'between': 1, 'computers': 2, 'humans': 1, 'using': 1, 'goal': 1, 'enable': 1, 'understand': 1, 'interpret': 1, 'generate': 1, 'human': 1, 'in': 7, 'way': 1, 'that': 1, 'both': 1, 'meaningful': 1, 'useful': 1, 'there': 2, 'many': 2, 'challenges': 2, 'such': 2, 'as': 2, 'dealing': 1, 'ambiguity': 1, 'variability': 1, 'techniques': 1, 'include': 2, 'tokenization': 1, 'stemming': 1, 'lemmatization': 1, 'part-of-speech': 1, 'tagging': 1, 'among': 1, 'others': 1, 'applications': 1, 'vast': 1, 'machine': 1, 'translation': 1, 'sentiment': 1, 'analysis': 1, 'speech': 1, 'recognition': 1, 'recent': 1, 'years': 1, 'deep': 1, 'learning': 1, 'has': 1, 'revolutionized': 1, 'leading': 1, 'significant': 1, 'improvements': 1, 'tasks': 1, 'like': 1, 'modeling': 1, 'text': 1, 'generation': 1, 'despite': 1, 'these': 2, 'advancements': 1, 'still': 1, 'open': 1, 'problems': 1, 'understanding': 1, 'context': 1, 'handling': 1, 'low-resource': 1, 'languages': 1, 'researchers': 1, 'continually': 1, 'developing': 1, 'new': 1, 'methods': 1, 'models': 1, 'address': 1, 'improve': 1, 'performance': 1, 'systems': 1}\n"
     ]
    }
   ],
   "source": [
    "preprocessed_documents = [preprocess_text(doc) for doc in corpus]\n",
    "\n",
    "print(f\"{len(preprocessed_documents)=} | {len(corpus)=}\\n\")\n",
    "print(preprocessed_documents)\n",
    "\n",
    "# Create word_freq = {}\n",
    "for tokens in preprocessed_documents:\n",
    "    for word in tokens:\n",
    "        if word in word_freq:\n",
    "            word_freq[word] += 1\n",
    "        else:\n",
    "            word_freq[word] = 1\n",
    "\n",
    "print(f\"{len(word_freq)=}\\n\")\n",
    "print(word_freq) # a dictionary to store the frequency of each word in the corpus\n"
   ]
  },
  {
   "cell_type": "markdown",
   "metadata": {},
   "source": [
    "But how do we go from a dictionary of word counts to a vector representation? Think of the dictionary we have as a feature space. For each document, we can represent it as a vector where each element in the vector corresponds to the count of a word in the dictionary. This is the bag-of-words model.\n",
    "\n",
    "To make this more concrete, we need to build a document term matrix: a matrix where each row corresponds to a document and each column corresponds to a word in the dictionary. The value in each cell is the count of the word in the document."
   ]
  },
  {
   "cell_type": "code",
   "execution_count": 7,
   "metadata": {},
   "outputs": [
    {
     "name": "stdout",
     "output_type": "stream",
     "text": [
      "{'a': 0, 'address': 1, 'advancements': 2, 'ambiguity': 3, 'among': 4, 'analysis': 5, 'and': 6, 'applications': 7, 'are': 8, 'as': 9, 'between': 10, 'both': 11, 'challenges': 12, 'computers': 13, 'context': 14, 'continually': 15, 'dealing': 16, 'deep': 17, 'despite': 18, 'developing': 19, 'enable': 20, 'fascinating': 21, 'field': 22, 'generate': 23, 'generation': 24, 'goal': 25, 'handling': 26, 'has': 27, 'human': 28, 'humans': 29, 'improve': 30, 'improvements': 31, 'in': 32, 'include': 33, 'interaction': 34, 'interpret': 35, 'involves': 36, 'is': 37, 'language': 38, 'languages': 39, 'leading': 40, 'learning': 41, 'lemmatization': 42, 'like': 43, 'low-resource': 44, 'machine': 45, 'many': 46, 'meaningful': 47, 'methods': 48, 'modeling': 49, 'models': 50, 'natural': 51, 'new': 52, 'nlp': 53, 'of': 54, 'open': 55, 'others': 56, 'part-of-speech': 57, 'performance': 58, 'problems': 59, 'processing': 60, 'recent': 61, 'recognition': 62, 'researchers': 63, 'revolutionized': 64, 'sentiment': 65, 'significant': 66, 'speech': 67, 'stemming': 68, 'still': 69, 'study': 70, 'such': 71, 'systems': 72, 'tagging': 73, 'tasks': 74, 'techniques': 75, 'text': 76, 'that': 77, 'the': 78, 'there': 79, 'these': 80, 'to': 81, 'tokenization': 82, 'translation': 83, 'understand': 84, 'understanding': 85, 'useful': 86, 'using': 87, 'variability': 88, 'vast': 89, 'way': 90, 'which': 91, 'with': 92, 'years': 93}\n",
      "\n",
      "Vocabulary Size: 94 | Number of Documents: 8\n",
      "\n",
      "Document 0 vector:\n",
      "[1, 0, 0, 0, 0, 0, 1, 0, 0, 0, 1, 0, 0, 1, 0, 0, 0, 0, 0, 0, 0, 1, 1, 0, 0, 0, 0, 0, 0, 1, 0, 0, 0, 0, 1, 0, 1, 1, 2, 0, 0, 0, 0, 0, 0, 0, 0, 0, 0, 0, 0, 2, 0, 1, 1, 0, 0, 0, 0, 0, 1, 0, 0, 0, 0, 0, 0, 0, 0, 0, 1, 0, 0, 0, 0, 0, 0, 0, 1, 0, 0, 0, 0, 0, 0, 0, 0, 1, 0, 0, 0, 1, 0, 0]\n",
      "\n",
      "Document 0 text:\n",
      "['natural', 'language', 'processing', 'nlp', 'is', 'a', 'fascinating', 'field', 'of', 'study', 'which', 'involves', 'the', 'interaction', 'between', 'computers', 'and', 'humans', 'using', 'natural', 'language']\n",
      "\n",
      "##################################################\n",
      "\n",
      "Document 1 vector:\n",
      "[1, 0, 0, 0, 0, 0, 2, 0, 0, 0, 0, 1, 0, 1, 0, 0, 0, 0, 0, 0, 1, 0, 0, 1, 0, 1, 0, 0, 1, 0, 0, 0, 1, 0, 0, 1, 0, 2, 1, 0, 0, 0, 0, 0, 0, 0, 0, 1, 0, 0, 0, 0, 0, 1, 1, 0, 0, 0, 0, 0, 0, 0, 0, 0, 0, 0, 0, 0, 0, 0, 0, 0, 0, 0, 0, 0, 0, 1, 1, 0, 0, 2, 0, 0, 1, 0, 1, 0, 0, 0, 1, 0, 0, 0]\n",
      "\n",
      "Document 1 text:\n",
      "['the', 'goal', 'of', 'nlp', 'is', 'to', 'enable', 'computers', 'to', 'understand', 'interpret', 'and', 'generate', 'human', 'language', 'in', 'a', 'way', 'that', 'is', 'both', 'meaningful', 'and', 'useful']\n",
      "\n",
      "##################################################\n",
      "\n",
      "Number of documents: 8\n",
      "Vocabulary size: 94\n"
     ]
    }
   ],
   "source": [
    "def build_document_term_matrix(preprocessed_documents):\n",
    "    \"\"\"\n",
    "    Builds a Bag-of-Words document-term matrix.\n",
    "    Returns:\n",
    "    - document_term_matrix (list of lists): BoW representation of documents\n",
    "    - vocab (list): Sorted vocabulary of unique words\n",
    "    - word_to_index (dict): Mapping of word → index in vocabulary\n",
    "    \"\"\"\n",
    "    # 1. Extract unique vocabulary from the dataset and sort it\n",
    "    vocab = sorted(set(word for doc in preprocessed_documents for word in doc))\n",
    "\n",
    "    # 2. Create a word-to-index mapping\n",
    "    word_to_index = {word: idx for idx, word in enumerate(vocab)}\n",
    "\n",
    "    print(word_to_index)\n",
    "\n",
    "    # 3. Convert each document into a vector\n",
    "    document_term_matrix = []\n",
    "    \n",
    "    for tokens in preprocessed_documents:\n",
    "        doc_vector = [0] * len(vocab)  # Initialize a vector of zeros\n",
    "        for token in tokens:\n",
    "            if token in word_to_index:\n",
    "                doc_vector[word_to_index[token]] += 1  # Increment word count\n",
    "        document_term_matrix.append(doc_vector)\n",
    "\n",
    "    print(f\"\\nVocabulary Size: {len(vocab)} | Number of Documents: {len(document_term_matrix)}\\n\")\n",
    "    # Print vectors for first two sentences \n",
    "    for i, vector in enumerate(document_term_matrix[:2]):\n",
    "        print(f\"Document {i} vector:\\n{vector}\\n\")\n",
    "        print(f\"Document {i} text:\\n{preprocessed_documents[i]}\\n\\n{'#'*50}\\n\")\n",
    "\n",
    "    # Optionally, we can inspect the shape of our document-term matrix\n",
    "    print(f\"Number of documents: {len(document_term_matrix)}\")\n",
    "    print(f\"Vocabulary size: {len(vocab)}\")\n",
    "\n",
    "    return document_term_matrix, vocab, word_to_index\n",
    "\n",
    "document_term_matrix, vocab, word_to_index = build_document_term_matrix(preprocessed_documents)"
   ]
  },
  {
   "cell_type": "markdown",
   "metadata": {},
   "source": [
    "The first step in this process is to build our vocabulary from our corpus - just as we have done before. Then, we assign a unique index to each word in the vocabulary. This index will be the column index in our document term matrix - corresponding to the word in the dictionary. \n",
    "\n",
    "With this in place, we can loop through our documents and count the frequency of each word in the document.  In the output above, we see that document 0 gets this vector:\n",
    "\n",
    "```python\n",
    "[1, 0, 0, 0, 0, 0, 1, 0, 0, 0, 1, 0, 0, 1, 0, 0, 0, 0, 0, 0, 0, 1, 1, 0, 0, 0, 0, 0, 0, 1, 0, 0, 0, 0, 1, 0, 1, 1, 2, 0, 0, 0, 0, 0, 0, 0, 0, 0, 0, 0, 0, 2, 0, 1, 1, 0, 0, 0, 0, 0, 1, 0, 0, 0, 0, 0, 0, 0, 0, 0, 1, 0, 0, 0, 0, 0, 0, 0, 1, 0, 0, 0, 0, 0, 0, 0, 0, 1, 0, 0, 0, 1, 0, 0]\n",
    "```\n",
    "\n",
    "From this text\n",
    "\n",
    "```python\n",
    "['natural', 'language', 'processing', 'nlp', 'is', 'a', 'fascinating', 'field', 'of', 'study', 'which', 'involves', 'the', 'interaction', 'between', 'computers', 'and', 'humans', 'using', 'natural', 'language']\n",
    "```\n",
    "\n",
    "We word \"a\" has index 1 in our vocabulary, and it occurs once in the document, so we get a 1 in the vector at index 0. The word \"and\" has index 6 in our vocabulary, and it occurs once in the document, so we get a 1 in the vector at index 6. As so on.\n",
    "\n",
    "What we have effectively done now is to transform our text data into a format that can be used by machine learning models. We have transformed our text data into a numerical representation. This is the essence of the bag-of-words model. \n",
    "\n",
    "When we encounter new texts, we can use the vocabulary we built and the word_to_index mapping to transform the new text into a vector representation. \n",
    "\n",
    "**Note**: You might also consider that we need to have a mapping for each word in the vocabulary. As there are quite a few words, the amount of memory needed to store the vocabulary can explode for large datasets. In practice, we often use a fixed vocabulary size and map all other words to an unknown token. This is a simple way to handle the issue of large vocabularies.\n"
   ]
  },
  {
   "cell_type": "markdown",
   "metadata": {},
   "source": [
    "We can also get a feel for our vocabulary by looking at the most common words in our corpus. This can be useful for understanding the content of our corpus and for identifying words that might be irrelevant for our analysis - so-called stop words."
   ]
  },
  {
   "cell_type": "code",
   "execution_count": 8,
   "metadata": {},
   "outputs": [
    {
     "data": {
      "image/png": "[encoded data removed]",
      "text/plain": [
       "<Figure size 1000x600 with 1 Axes>"
      ]
     },
     "metadata": {},
     "output_type": "display_data"
    }
   ],
   "source": [
    "import numpy as np\n",
    "import matplotlib.pyplot as plt\n",
    "\n",
    "\n",
    "def visualize_top_n_tokens(n, document_term_matrix):\n",
    "\n",
    "    # Sum the occurrences of each word across all documents\n",
    "    word_counts = np.sum(document_term_matrix, axis=0)\n",
    "\n",
    "    # Get the indices of the top n most common words\n",
    "    top_n_indices = np.argsort(word_counts)[-n:]\n",
    "\n",
    "    # Get the corresponding words and their counts\n",
    "    top_n_words = [vocab[i] for i in top_n_indices]\n",
    "    top_n_counts = word_counts[top_n_indices]\n",
    "\n",
    "    # Create the bar chart\n",
    "    plt.figure(figsize=(10, 6))\n",
    "    plt.barh(top_n_words, top_n_counts, color='skyblue')\n",
    "    plt.xlabel('Frequency')\n",
    "    plt.ylabel('Words')\n",
    "    plt.title(f'Top {n} Most Common Words in Document Term Matrix')\n",
    "    plt.show()\n",
    "\n",
    "visualize_top_n_tokens(10, document_term_matrix)"
   ]
  },
  {
   "cell_type": "markdown",
   "metadata": {},
   "source": [
    "***\n",
    "\n",
    "# 2. BoW using Scikit-Learn"
   ]
  },
  {
   "cell_type": "markdown",
   "metadata": {},
   "source": [
    "Normally we build BoW models using Scikit-Learn's `CountVectorizer`. CountVectorizer does  preprocessing and builds word vectors, using `fit_transform`, as we will see below. Also, it provides a elaborate set of options for preprocessing. You can read more about it [here](https://scikit-learn.org/stable/modules/generated/sklearn.feature_extraction.text.CountVectorizer.html)."
   ]
  },
  {
   "cell_type": "code",
   "execution_count": 2,
   "metadata": {},
   "outputs": [],
   "source": [
    "import pandas as pd\n",
    "from sklearn.model_selection import train_test_split\n",
    "from sklearn.feature_extraction.text import CountVectorizer\n",
    "from sklearn.linear_model import LogisticRegression\n",
    "from sklearn.metrics import classification_report\n",
    "\n"
   ]
  },
  {
   "cell_type": "markdown",
   "metadata": {},
   "source": [
    "## 2.1. Load the data\n",
    "\n",
    "We will be working with the AG News dataset, which is a collection of news articles from the AG's corpus of news articles on the web. The dataset has four categories: World, Sports, Business, and Science/Technology. We will use a subset of the dataset for this example.\n",
    "\n",
    "We can load this data directly from [Hugging Face Datasets](https://huggingface.co/docs/datasets/) - The HuggingFace Hub- into a Pandas DataFrame. Pretty neat!\n",
    "\n",
    "**Note**: This cell will download the dataset and keep it in memory. If you run this cell multiple times, it will download the dataset multiple times."
   ]
  },
  {
   "cell_type": "code",
   "execution_count": 3,
   "metadata": {},
   "outputs": [
    {
     "name": "stdout",
     "output_type": "stream",
     "text": [
      "(120000, 2) (7600, 2)\n"
     ]
    }
   ],
   "source": [
    "\n",
    "splits = {'train': 'data/train-00000-of-00001.parquet', 'test': 'data/test-00000-of-00001.parquet'}\n",
    "\n",
    "train = pd.read_parquet(\"hf://datasets/fancyzhx/ag_news/\" + splits[\"train\"])\n",
    "test = pd.read_parquet(\"hf://datasets/fancyzhx/ag_news/\" + splits[\"test\"])\n",
    "\n",
    "print(train.shape, test.shape)"
   ]
  },
  {
   "cell_type": "code",
   "execution_count": 4,
   "metadata": {},
   "outputs": [
    {
     "data": {
      "text/plain": [
       "((1200, 2), (760, 2))"
      ]
     },
     "execution_count": 4,
     "metadata": {},
     "output_type": "execute_result"
    }
   ],
   "source": [
    "\n",
    "label_map = {\n",
    "    0: 'World',\n",
    "    1: 'Sports',\n",
    "    2: 'Business',\n",
    "    3: 'Sci/Tech'\n",
    "}\n",
    "\n",
    "def preprocess(df: pd.DataFrame, frac : float = 1e-2, label_map : dict[int, str] = label_map, seed : int = 42) -> pd.DataFrame:\n",
    "    \"\"\" Preprocess the dataset \n",
    "\n",
    "    Operations:\n",
    "    - Map the label to the corresponding category\n",
    "    - Filter out the labels not in the label_map\n",
    "    - Sample a fraction of the dataset (stratified by label)\n",
    "\n",
    "    Args:\n",
    "    - df (pd.DataFrame): The dataset to preprocess\n",
    "    - frac (float): The fraction of the dataset to sample in each category\n",
    "    - label_map (dict): A mapping of the original label to the new label\n",
    "    - seed (int): The random seed for reproducibility\n",
    "\n",
    "    Returns:\n",
    "    - pd.DataFrame: The preprocessed dataset\n",
    "    \"\"\"\n",
    "\n",
    "    return  (\n",
    "        df\n",
    "        .assign(label=lambda x: x['label'].map(label_map))\n",
    "        [lambda df: df['label'].isin(label_map.values())]\n",
    "        .groupby('label')[[\"text\", \"label\"]]\n",
    "        .apply(lambda x: x.sample(frac=frac, random_state=seed))\n",
    "        .reset_index(drop=True)\n",
    "\n",
    "    )\n",
    "\n",
    "train_df = preprocess(train, frac=0.01)\n",
    "test_df = preprocess(test, frac=0.1)\n",
    "\n",
    "# clear up some memory by deleting the original dataframes\n",
    "del train\n",
    "del test\n",
    "\n",
    "train_df.shape, test_df.shape"
   ]
  },
  {
   "cell_type": "markdown",
   "metadata": {},
   "source": [
    "### 2.2. Split the data\n",
    "\n",
    "The AG News dataset is already split into training and test sets. We will use Scikit-Learn's `train_test_split` to split the training set into a training and validation set. We will use the training set for training our BoW model and the validation set for evaluating the model."
   ]
  },
  {
   "cell_type": "code",
   "execution_count": null,
   "metadata": {},
   "outputs": [
    {
     "name": "stdout",
     "output_type": "stream",
     "text": [
      "(960,) (240,) (960,) (240,)\n"
     ]
    }
   ],
   "source": [
    "(\n",
    "    X_train,\n",
    "    X_val,\n",
    "    y_train,\n",
    "    y_val\n",
    "\n",
    ") = train_test_split(train_df[\"text\"], train_df[\"label\"], test_size=0.2, random_state=42)\n",
    "\n",
    "print(X_train.shape, X_val.shape, y_train.shape, y_val.shape)"
   ]
  },
  {
   "cell_type": "markdown",
   "metadata": {},
   "source": [
    "### 2.3. Build the BoW model\n",
    "\n",
    "All the word we did in section 1 is done by `CountVectorizer`. We will use the `fit_transform` method to build the BoW model. We will also use the `transform` method to transform the validation set into a BoW representation.\n",
    "\n",
    "**Note**: We will __not__ fit our `CountVectorizer` on the validation set. We only fit it on the training set. This is important to avoid data leakage."
   ]
  },
  {
   "cell_type": "code",
   "execution_count": 6,
   "metadata": {},
   "outputs": [],
   "source": [
    "# countvectorizer\n",
    "cv = CountVectorizer()\n",
    "X_train_vectorized = cv.fit_transform(X_train)"
   ]
  },
  {
   "cell_type": "markdown",
   "metadata": {},
   "source": [
    "Observe the shape of the BoW representation. The number of columns in the BoW representation corresponds to the number of unique words in the training set. This is the size of our vocabulary.\n",
    "\n",
    "Note that the CountVectorizer has a pretty ruthless tokenizer. It will not only remove all punctuation and lowercase all text by default, as we did, it will also remove all numbers and indeed all tokens that are not pure text. We can change this behavior by passing a custom tokenizer to the CountVectorizer, if we so desire."
   ]
  },
  {
   "cell_type": "code",
   "execution_count": 14,
   "metadata": {},
   "outputs": [
    {
     "data": {
      "text/plain": [
       "matrix([[0, 0, 0, ..., 0, 0, 0],\n",
       "        [0, 0, 0, ..., 0, 0, 0],\n",
       "        [0, 0, 0, ..., 0, 0, 0],\n",
       "        ...,\n",
       "        [0, 0, 0, ..., 0, 0, 0],\n",
       "        [0, 0, 0, ..., 0, 0, 0],\n",
       "        [0, 0, 0, ..., 0, 0, 0]], dtype=int64)"
      ]
     },
     "execution_count": 14,
     "metadata": {},
     "output_type": "execute_result"
    }
   ],
   "source": [
    "X_train_vectorized.todense()"
   ]
  },
  {
   "cell_type": "markdown",
   "metadata": {},
   "source": [
    "### 2.4. Create a classifier\n",
    "\n",
    "Below we create a simple classifier using Scikit-Learn's [LogisticRegression](https://scikit-learn.org/stable/modules/generated/sklearn.linear_model.LogisticRegression.html). We train the classifier on the BoW representation of the training set and evaluate it on the BoW representation of the validation set."
   ]
  },
  {
   "cell_type": "code",
   "execution_count": 7,
   "metadata": {},
   "outputs": [
    {
     "data": {
      "text/html": [
       "<style>#sk-container-id-1 {\n",
       "  /* Definition of color scheme common for light and dark mode */\n",
       "  --sklearn-color-text: #000;\n",
       "  --sklearn-color-text-muted: #666;\n",
       "  --sklearn-color-line: gray;\n",
       "  /* Definition of color scheme for unfitted estimators */\n",
       "  --sklearn-color-unfitted-level-0: #fff5e6;\n",
       "  --sklearn-color-unfitted-level-1: #f6e4d2;\n",
       "  --sklearn-color-unfitted-level-2: #ffe0b3;\n",
       "  --sklearn-color-unfitted-level-3: chocolate;\n",
       "  /* Definition of color scheme for fitted estimators */\n",
       "  --sklearn-color-fitted-level-0: #f0f8ff;\n",
       "  --sklearn-color-fitted-level-1: #d4ebff;\n",
       "  --sklearn-color-fitted-level-2: #b3dbfd;\n",
       "  --sklearn-color-fitted-level-3: cornflowerblue;\n",
       "\n",
       "  /* Specific color for light theme */\n",
       "  --sklearn-color-text-on-default-background: var(--sg-text-color, var(--theme-code-foreground, var(--jp-content-font-color1, black)));\n",
       "  --sklearn-color-background: var(--sg-background-color, var(--theme-background, var(--jp-layout-color0, white)));\n",
       "  --sklearn-color-border-box: var(--sg-text-color, var(--theme-code-foreground, var(--jp-content-font-color1, black)));\n",
       "  --sklearn-color-icon: #696969;\n",
       "\n",
       "  @media (prefers-color-scheme: dark) {\n",
       "    /* Redefinition of color scheme for dark theme */\n",
       "    --sklearn-color-text-on-default-background: var(--sg-text-color, var(--theme-code-foreground, var(--jp-content-font-color1, white)));\n",
       "    --sklearn-color-background: var(--sg-background-color, var(--theme-background, var(--jp-layout-color0, #111)));\n",
       "    --sklearn-color-border-box: var(--sg-text-color, var(--theme-code-foreground, var(--jp-content-font-color1, white)));\n",
       "    --sklearn-color-icon: #878787;\n",
       "  }\n",
       "}\n",
       "\n",
       "#sk-container-id-1 {\n",
       "  color: var(--sklearn-color-text);\n",
       "}\n",
       "\n",
       "#sk-container-id-1 pre {\n",
       "  padding: 0;\n",
       "}\n",
       "\n",
       "#sk-container-id-1 input.sk-hidden--visually {\n",
       "  border: 0;\n",
       "  clip: rect(1px 1px 1px 1px);\n",
       "  clip: rect(1px, 1px, 1px, 1px);\n",
       "  height: 1px;\n",
       "  margin: -1px;\n",
       "  overflow: hidden;\n",
       "  padding: 0;\n",
       "  position: absolute;\n",
       "  width: 1px;\n",
       "}\n",
       "\n",
       "#sk-container-id-1 div.sk-dashed-wrapped {\n",
       "  border: 1px dashed var(--sklearn-color-line);\n",
       "  margin: 0 0.4em 0.5em 0.4em;\n",
       "  box-sizing: border-box;\n",
       "  padding-bottom: 0.4em;\n",
       "  background-color: var(--sklearn-color-background);\n",
       "}\n",
       "\n",
       "#sk-container-id-1 div.sk-container {\n",
       "  /* jupyter's `normalize.less` sets `[hidden] { display: none; }`\n",
       "     but bootstrap.min.css set `[hidden] { display: none !important; }`\n",
       "     so we also need the `!important` here to be able to override the\n",
       "     default hidden behavior on the sphinx rendered scikit-learn.org.\n",
       "     See: https://github.com/scikit-learn/scikit-learn/issues/21755 */\n",
       "  display: inline-block !important;\n",
       "  position: relative;\n",
       "}\n",
       "\n",
       "#sk-container-id-1 div.sk-text-repr-fallback {\n",
       "  display: none;\n",
       "}\n",
       "\n",
       "div.sk-parallel-item,\n",
       "div.sk-serial,\n",
       "div.sk-item {\n",
       "  /* draw centered vertical line to link estimators */\n",
       "  background-image: linear-gradient(var(--sklearn-color-text-on-default-background), var(--sklearn-color-text-on-default-background));\n",
       "  background-size: 2px 100%;\n",
       "  background-repeat: no-repeat;\n",
       "  background-position: center center;\n",
       "}\n",
       "\n",
       "/* Parallel-specific style estimator block */\n",
       "\n",
       "#sk-container-id-1 div.sk-parallel-item::after {\n",
       "  content: \"\";\n",
       "  width: 100%;\n",
       "  border-bottom: 2px solid var(--sklearn-color-text-on-default-background);\n",
       "  flex-grow: 1;\n",
       "}\n",
       "\n",
       "#sk-container-id-1 div.sk-parallel {\n",
       "  display: flex;\n",
       "  align-items: stretch;\n",
       "  justify-content: center;\n",
       "  background-color: var(--sklearn-color-background);\n",
       "  position: relative;\n",
       "}\n",
       "\n",
       "#sk-container-id-1 div.sk-parallel-item {\n",
       "  display: flex;\n",
       "  flex-direction: column;\n",
       "}\n",
       "\n",
       "#sk-container-id-1 div.sk-parallel-item:first-child::after {\n",
       "  align-self: flex-end;\n",
       "  width: 50%;\n",
       "}\n",
       "\n",
       "#sk-container-id-1 div.sk-parallel-item:last-child::after {\n",
       "  align-self: flex-start;\n",
       "  width: 50%;\n",
       "}\n",
       "\n",
       "#sk-container-id-1 div.sk-parallel-item:only-child::after {\n",
       "  width: 0;\n",
       "}\n",
       "\n",
       "/* Serial-specific style estimator block */\n",
       "\n",
       "#sk-container-id-1 div.sk-serial {\n",
       "  display: flex;\n",
       "  flex-direction: column;\n",
       "  align-items: center;\n",
       "  background-color: var(--sklearn-color-background);\n",
       "  padding-right: 1em;\n",
       "  padding-left: 1em;\n",
       "}\n",
       "\n",
       "\n",
       "/* Toggleable style: style used for estimator/Pipeline/ColumnTransformer box that is\n",
       "clickable and can be expanded/collapsed.\n",
       "- Pipeline and ColumnTransformer use this feature and define the default style\n",
       "- Estimators will overwrite some part of the style using the `sk-estimator` class\n",
       "*/\n",
       "\n",
       "/* Pipeline and ColumnTransformer style (default) */\n",
       "\n",
       "#sk-container-id-1 div.sk-toggleable {\n",
       "  /* Default theme specific background. It is overwritten whether we have a\n",
       "  specific estimator or a Pipeline/ColumnTransformer */\n",
       "  background-color: var(--sklearn-color-background);\n",
       "}\n",
       "\n",
       "/* Toggleable label */\n",
       "#sk-container-id-1 label.sk-toggleable__label {\n",
       "  cursor: pointer;\n",
       "  display: flex;\n",
       "  width: 100%;\n",
       "  margin-bottom: 0;\n",
       "  padding: 0.5em;\n",
       "  box-sizing: border-box;\n",
       "  text-align: center;\n",
       "  align-items: start;\n",
       "  justify-content: space-between;\n",
       "  gap: 0.5em;\n",
       "}\n",
       "\n",
       "#sk-container-id-1 label.sk-toggleable__label .caption {\n",
       "  font-size: 0.6rem;\n",
       "  font-weight: lighter;\n",
       "  color: var(--sklearn-color-text-muted);\n",
       "}\n",
       "\n",
       "#sk-container-id-1 label.sk-toggleable__label-arrow:before {\n",
       "  /* Arrow on the left of the label */\n",
       "  content: \"▸\";\n",
       "  float: left;\n",
       "  margin-right: 0.25em;\n",
       "  color: var(--sklearn-color-icon);\n",
       "}\n",
       "\n",
       "#sk-container-id-1 label.sk-toggleable__label-arrow:hover:before {\n",
       "  color: var(--sklearn-color-text);\n",
       "}\n",
       "\n",
       "/* Toggleable content - dropdown */\n",
       "\n",
       "#sk-container-id-1 div.sk-toggleable__content {\n",
       "  max-height: 0;\n",
       "  max-width: 0;\n",
       "  overflow: hidden;\n",
       "  text-align: left;\n",
       "  /* unfitted */\n",
       "  background-color: var(--sklearn-color-unfitted-level-0);\n",
       "}\n",
       "\n",
       "#sk-container-id-1 div.sk-toggleable__content.fitted {\n",
       "  /* fitted */\n",
       "  background-color: var(--sklearn-color-fitted-level-0);\n",
       "}\n",
       "\n",
       "#sk-container-id-1 div.sk-toggleable__content pre {\n",
       "  margin: 0.2em;\n",
       "  border-radius: 0.25em;\n",
       "  color: var(--sklearn-color-text);\n",
       "  /* unfitted */\n",
       "  background-color: var(--sklearn-color-unfitted-level-0);\n",
       "}\n",
       "\n",
       "#sk-container-id-1 div.sk-toggleable__content.fitted pre {\n",
       "  /* unfitted */\n",
       "  background-color: var(--sklearn-color-fitted-level-0);\n",
       "}\n",
       "\n",
       "#sk-container-id-1 input.sk-toggleable__control:checked~div.sk-toggleable__content {\n",
       "  /* Expand drop-down */\n",
       "  max-height: 200px;\n",
       "  max-width: 100%;\n",
       "  overflow: auto;\n",
       "}\n",
       "\n",
       "#sk-container-id-1 input.sk-toggleable__control:checked~label.sk-toggleable__label-arrow:before {\n",
       "  content: \"▾\";\n",
       "}\n",
       "\n",
       "/* Pipeline/ColumnTransformer-specific style */\n",
       "\n",
       "#sk-container-id-1 div.sk-label input.sk-toggleable__control:checked~label.sk-toggleable__label {\n",
       "  color: var(--sklearn-color-text);\n",
       "  background-color: var(--sklearn-color-unfitted-level-2);\n",
       "}\n",
       "\n",
       "#sk-container-id-1 div.sk-label.fitted input.sk-toggleable__control:checked~label.sk-toggleable__label {\n",
       "  background-color: var(--sklearn-color-fitted-level-2);\n",
       "}\n",
       "\n",
       "/* Estimator-specific style */\n",
       "\n",
       "/* Colorize estimator box */\n",
       "#sk-container-id-1 div.sk-estimator input.sk-toggleable__control:checked~label.sk-toggleable__label {\n",
       "  /* unfitted */\n",
       "  background-color: var(--sklearn-color-unfitted-level-2);\n",
       "}\n",
       "\n",
       "#sk-container-id-1 div.sk-estimator.fitted input.sk-toggleable__control:checked~label.sk-toggleable__label {\n",
       "  /* fitted */\n",
       "  background-color: var(--sklearn-color-fitted-level-2);\n",
       "}\n",
       "\n",
       "#sk-container-id-1 div.sk-label label.sk-toggleable__label,\n",
       "#sk-container-id-1 div.sk-label label {\n",
       "  /* The background is the default theme color */\n",
       "  color: var(--sklearn-color-text-on-default-background);\n",
       "}\n",
       "\n",
       "/* On hover, darken the color of the background */\n",
       "#sk-container-id-1 div.sk-label:hover label.sk-toggleable__label {\n",
       "  color: var(--sklearn-color-text);\n",
       "  background-color: var(--sklearn-color-unfitted-level-2);\n",
       "}\n",
       "\n",
       "/* Label box, darken color on hover, fitted */\n",
       "#sk-container-id-1 div.sk-label.fitted:hover label.sk-toggleable__label.fitted {\n",
       "  color: var(--sklearn-color-text);\n",
       "  background-color: var(--sklearn-color-fitted-level-2);\n",
       "}\n",
       "\n",
       "/* Estimator label */\n",
       "\n",
       "#sk-container-id-1 div.sk-label label {\n",
       "  font-family: monospace;\n",
       "  font-weight: bold;\n",
       "  display: inline-block;\n",
       "  line-height: 1.2em;\n",
       "}\n",
       "\n",
       "#sk-container-id-1 div.sk-label-container {\n",
       "  text-align: center;\n",
       "}\n",
       "\n",
       "/* Estimator-specific */\n",
       "#sk-container-id-1 div.sk-estimator {\n",
       "  font-family: monospace;\n",
       "  border: 1px dotted var(--sklearn-color-border-box);\n",
       "  border-radius: 0.25em;\n",
       "  box-sizing: border-box;\n",
       "  margin-bottom: 0.5em;\n",
       "  /* unfitted */\n",
       "  background-color: var(--sklearn-color-unfitted-level-0);\n",
       "}\n",
       "\n",
       "#sk-container-id-1 div.sk-estimator.fitted {\n",
       "  /* fitted */\n",
       "  background-color: var(--sklearn-color-fitted-level-0);\n",
       "}\n",
       "\n",
       "/* on hover */\n",
       "#sk-container-id-1 div.sk-estimator:hover {\n",
       "  /* unfitted */\n",
       "  background-color: var(--sklearn-color-unfitted-level-2);\n",
       "}\n",
       "\n",
       "#sk-container-id-1 div.sk-estimator.fitted:hover {\n",
       "  /* fitted */\n",
       "  background-color: var(--sklearn-color-fitted-level-2);\n",
       "}\n",
       "\n",
       "/* Specification for estimator info (e.g. \"i\" and \"?\") */\n",
       "\n",
       "/* Common style for \"i\" and \"?\" */\n",
       "\n",
       ".sk-estimator-doc-link,\n",
       "a:link.sk-estimator-doc-link,\n",
       "a:visited.sk-estimator-doc-link {\n",
       "  float: right;\n",
       "  font-size: smaller;\n",
       "  line-height: 1em;\n",
       "  font-family: monospace;\n",
       "  background-color: var(--sklearn-color-background);\n",
       "  border-radius: 1em;\n",
       "  height: 1em;\n",
       "  width: 1em;\n",
       "  text-decoration: none !important;\n",
       "  margin-left: 0.5em;\n",
       "  text-align: center;\n",
       "  /* unfitted */\n",
       "  border: var(--sklearn-color-unfitted-level-1) 1pt solid;\n",
       "  color: var(--sklearn-color-unfitted-level-1);\n",
       "}\n",
       "\n",
       ".sk-estimator-doc-link.fitted,\n",
       "a:link.sk-estimator-doc-link.fitted,\n",
       "a:visited.sk-estimator-doc-link.fitted {\n",
       "  /* fitted */\n",
       "  border: var(--sklearn-color-fitted-level-1) 1pt solid;\n",
       "  color: var(--sklearn-color-fitted-level-1);\n",
       "}\n",
       "\n",
       "/* On hover */\n",
       "div.sk-estimator:hover .sk-estimator-doc-link:hover,\n",
       ".sk-estimator-doc-link:hover,\n",
       "div.sk-label-container:hover .sk-estimator-doc-link:hover,\n",
       ".sk-estimator-doc-link:hover {\n",
       "  /* unfitted */\n",
       "  background-color: var(--sklearn-color-unfitted-level-3);\n",
       "  color: var(--sklearn-color-background);\n",
       "  text-decoration: none;\n",
       "}\n",
       "\n",
       "div.sk-estimator.fitted:hover .sk-estimator-doc-link.fitted:hover,\n",
       ".sk-estimator-doc-link.fitted:hover,\n",
       "div.sk-label-container:hover .sk-estimator-doc-link.fitted:hover,\n",
       ".sk-estimator-doc-link.fitted:hover {\n",
       "  /* fitted */\n",
       "  background-color: var(--sklearn-color-fitted-level-3);\n",
       "  color: var(--sklearn-color-background);\n",
       "  text-decoration: none;\n",
       "}\n",
       "\n",
       "/* Span, style for the box shown on hovering the info icon */\n",
       ".sk-estimator-doc-link span {\n",
       "  display: none;\n",
       "  z-index: 9999;\n",
       "  position: relative;\n",
       "  font-weight: normal;\n",
       "  right: .2ex;\n",
       "  padding: .5ex;\n",
       "  margin: .5ex;\n",
       "  width: min-content;\n",
       "  min-width: 20ex;\n",
       "  max-width: 50ex;\n",
       "  color: var(--sklearn-color-text);\n",
       "  box-shadow: 2pt 2pt 4pt #999;\n",
       "  /* unfitted */\n",
       "  background: var(--sklearn-color-unfitted-level-0);\n",
       "  border: .5pt solid var(--sklearn-color-unfitted-level-3);\n",
       "}\n",
       "\n",
       ".sk-estimator-doc-link.fitted span {\n",
       "  /* fitted */\n",
       "  background: var(--sklearn-color-fitted-level-0);\n",
       "  border: var(--sklearn-color-fitted-level-3);\n",
       "}\n",
       "\n",
       ".sk-estimator-doc-link:hover span {\n",
       "  display: block;\n",
       "}\n",
       "\n",
       "/* \"?\"-specific style due to the `<a>` HTML tag */\n",
       "\n",
       "#sk-container-id-1 a.estimator_doc_link {\n",
       "  float: right;\n",
       "  font-size: 1rem;\n",
       "  line-height: 1em;\n",
       "  font-family: monospace;\n",
       "  background-color: var(--sklearn-color-background);\n",
       "  border-radius: 1rem;\n",
       "  height: 1rem;\n",
       "  width: 1rem;\n",
       "  text-decoration: none;\n",
       "  /* unfitted */\n",
       "  color: var(--sklearn-color-unfitted-level-1);\n",
       "  border: var(--sklearn-color-unfitted-level-1) 1pt solid;\n",
       "}\n",
       "\n",
       "#sk-container-id-1 a.estimator_doc_link.fitted {\n",
       "  /* fitted */\n",
       "  border: var(--sklearn-color-fitted-level-1) 1pt solid;\n",
       "  color: var(--sklearn-color-fitted-level-1);\n",
       "}\n",
       "\n",
       "/* On hover */\n",
       "#sk-container-id-1 a.estimator_doc_link:hover {\n",
       "  /* unfitted */\n",
       "  background-color: var(--sklearn-color-unfitted-level-3);\n",
       "  color: var(--sklearn-color-background);\n",
       "  text-decoration: none;\n",
       "}\n",
       "\n",
       "#sk-container-id-1 a.estimator_doc_link.fitted:hover {\n",
       "  /* fitted */\n",
       "  background-color: var(--sklearn-color-fitted-level-3);\n",
       "}\n",
       "</style><div id=\"sk-container-id-1\" class=\"sk-top-container\"><div class=\"sk-text-repr-fallback\"><pre>LogisticRegression()</pre><b>In a Jupyter environment, please rerun this cell to show the HTML representation or trust the notebook. <br />On GitHub, the HTML representation is unable to render, please try loading this page with nbviewer.org.</b></div><div class=\"sk-container\" hidden><div class=\"sk-item\"><div class=\"sk-estimator fitted sk-toggleable\"><input class=\"sk-toggleable__control sk-hidden--visually\" id=\"sk-estimator-id-1\" type=\"checkbox\" checked><label for=\"sk-estimator-id-1\" class=\"sk-toggleable__label fitted sk-toggleable__label-arrow\"><div><div>LogisticRegression</div></div><div><a class=\"sk-estimator-doc-link fitted\" rel=\"noreferrer\" target=\"_blank\" href=\"https://scikit-learn.org/1.6/modules/generated/sklearn.linear_model.LogisticRegression.html\">?<span>Documentation for LogisticRegression</span></a><span class=\"sk-estimator-doc-link fitted\">i<span>Fitted</span></span></div></label><div class=\"sk-toggleable__content fitted\"><pre>LogisticRegression()</pre></div> </div></div></div></div>"
      ],
      "text/plain": [
       "LogisticRegression()"
      ]
     },
     "execution_count": 7,
     "metadata": {},
     "output_type": "execute_result"
    }
   ],
   "source": [
    "lr_clf = LogisticRegression() # Note that we can set hyperparameters here\n",
    "\n",
    "lr_clf.fit(X_train_vectorized, y_train)"
   ]
  },
  {
   "cell_type": "markdown",
   "metadata": {},
   "source": [
    "### 2.5. Get predictions"
   ]
  },
  {
   "cell_type": "code",
   "execution_count": 9,
   "metadata": {},
   "outputs": [],
   "source": [
    "X_val_vectorized = cv.transform(X_val) # note that we use transform here, not fit_transform\n",
    "\n",
    "y_pred = lr_clf.predict(X_val_vectorized)"
   ]
  },
  {
   "cell_type": "markdown",
   "metadata": {},
   "source": [
    "### 2.6. Evaluate BoW model"
   ]
  },
  {
   "cell_type": "code",
   "execution_count": 10,
   "metadata": {},
   "outputs": [
    {
     "name": "stdout",
     "output_type": "stream",
     "text": [
      "Performance on the training set:\n",
      "              precision    recall  f1-score   support\n",
      "\n",
      "       World       1.00      1.00      1.00       238\n",
      "      Sports       1.00      1.00      1.00       240\n",
      "    Business       1.00      1.00      1.00       240\n",
      "    Sci/Tech       1.00      1.00      1.00       242\n",
      "\n",
      "    accuracy                           1.00       960\n",
      "   macro avg       1.00      1.00      1.00       960\n",
      "weighted avg       1.00      1.00      1.00       960\n",
      "\n",
      "Performance on the validation set:\n",
      "              precision    recall  f1-score   support\n",
      "\n",
      "       World       0.76      0.68      0.72        62\n",
      "      Sports       0.69      0.60      0.64        60\n",
      "    Business       0.79      0.87      0.83        60\n",
      "    Sci/Tech       0.78      0.90      0.83        58\n",
      "\n",
      "    accuracy                           0.76       240\n",
      "   macro avg       0.75      0.76      0.75       240\n",
      "weighted avg       0.75      0.76      0.75       240\n",
      "\n"
     ]
    }
   ],
   "source": [
    "\n",
    "print(\"Performance on the training set:\")\n",
    "print(classification_report(y_train, lr_clf.predict(X_train_vectorized), target_names=label_map.values()))\n",
    "\n",
    "print(\"Performance on the validation set:\")\n",
    "print(classification_report(y_val, y_pred, target_names=label_map.values()))\n",
    "\n"
   ]
  },
  {
   "cell_type": "code",
   "execution_count": 11,
   "metadata": {},
   "outputs": [
    {
     "name": "stdout",
     "output_type": "stream",
     "text": [
      "Performance on the test set:\n",
      "              precision    recall  f1-score   support\n",
      "\n",
      "       World       0.74      0.72      0.73       190\n",
      "      Sports       0.75      0.72      0.73       190\n",
      "    Business       0.83      0.88      0.86       190\n",
      "    Sci/Tech       0.79      0.79      0.79       190\n",
      "\n",
      "    accuracy                           0.78       760\n",
      "   macro avg       0.78      0.78      0.78       760\n",
      "weighted avg       0.78      0.78      0.78       760\n",
      "\n"
     ]
    }
   ],
   "source": [
    "test_df_vectorized = cv.transform(test_df[\"text\"])\n",
    "\n",
    "print(\"Performance on the test set:\")\n",
    "print(classification_report(test_df[\"label\"], lr_clf.predict(test_df_vectorized), target_names=label_map.values()))"
   ]
  }
 ],
 "metadata": {
  "kernelspec": {
   "display_name": "aiml25-ma2",
   "language": "python",
   "name": "python3"
  },
  "language_info": {
   "codemirror_mode": {
    "name": "ipython",
    "version": 3
   },
   "file_extension": ".py",
   "mimetype": "text/x-python",
   "name": "python",
   "nbconvert_exporter": "python",
   "pygments_lexer": "ipython3",
   "version": "3.11.11"
  }
 },
 "nbformat": 4,
 "nbformat_minor": 2
}
